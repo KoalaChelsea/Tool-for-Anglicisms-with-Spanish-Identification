{
 "cells": [
  {
   "cell_type": "code",
   "execution_count": 1,
   "metadata": {},
   "outputs": [],
   "source": [
    "import pandas as pd\n",
    "import numpy as np\n",
    "import json\n",
    "import spacy"
   ]
  },
  {
   "cell_type": "code",
   "execution_count": 2,
   "metadata": {},
   "outputs": [],
   "source": [
    "list_Full = list()\n",
    "list_Ang = list()\n",
    "with open('data_copy/training.jsonl', encoding=\"utf8\") as f:\n",
    "    lines = f.readlines()\n",
    "for line in lines:\n",
    "    json_as_dict = json.loads(line)\n",
    "    list_Full.append(json_as_dict)\n",
    "    if not json_as_dict[\"annotation_approver\"] and not json_as_dict[\"labels\"]:\n",
    "        pass\n",
    "    else:\n",
    "        if json_as_dict[\"labels\"]:\n",
    "            list_Ang.append(json_as_dict)"
   ]
  },
  {
   "cell_type": "code",
   "execution_count": 5,
   "metadata": {},
   "outputs": [
    {
     "data": {
      "text/plain": [
       "(10513, 6)"
      ]
     },
     "execution_count": 5,
     "metadata": {},
     "output_type": "execute_result"
    }
   ],
   "source": [
    "df = pd.DataFrame(list_Full) \n",
    "df.shape"
   ]
  },
  {
   "cell_type": "code",
   "execution_count": 7,
   "metadata": {},
   "outputs": [
    {
     "data": {
      "text/plain": [
       "(746, 6)"
      ]
     },
     "execution_count": 7,
     "metadata": {},
     "output_type": "execute_result"
    }
   ],
   "source": [
    "df_Ang = pd.DataFrame(list_Ang) \n",
    "df_Ang.shape"
   ]
  },
  {
   "cell_type": "code",
   "execution_count": 8,
   "metadata": {},
   "outputs": [
    {
     "data": {
      "text/html": [
       "<div>\n",
       "<style scoped>\n",
       "    .dataframe tbody tr th:only-of-type {\n",
       "        vertical-align: middle;\n",
       "    }\n",
       "\n",
       "    .dataframe tbody tr th {\n",
       "        vertical-align: top;\n",
       "    }\n",
       "\n",
       "    .dataframe thead th {\n",
       "        text-align: right;\n",
       "    }\n",
       "</style>\n",
       "<table border=\"1\" class=\"dataframe\">\n",
       "  <thead>\n",
       "    <tr style=\"text-align: right;\">\n",
       "      <th></th>\n",
       "      <th>id</th>\n",
       "      <th>text</th>\n",
       "      <th>meta</th>\n",
       "      <th>annotation_approver</th>\n",
       "      <th>labels</th>\n",
       "      <th>section</th>\n",
       "    </tr>\n",
       "  </thead>\n",
       "  <tbody>\n",
       "    <tr>\n",
       "      <td>0</td>\n",
       "      <td>6227</td>\n",
       "      <td>'Selfies' en 3D, el arte de imprimir a tu sueg...</td>\n",
       "      <td>{}</td>\n",
       "      <td>None</td>\n",
       "      <td>[[1, 8, ENG]]</td>\n",
       "      <td>technology</td>\n",
       "    </tr>\n",
       "    <tr>\n",
       "      <td>1</td>\n",
       "      <td>6247</td>\n",
       "      <td>El brexit, bajo el microscopio</td>\n",
       "      <td>{}</td>\n",
       "      <td>None</td>\n",
       "      <td>[[3, 9, ENG]]</td>\n",
       "      <td>technology</td>\n",
       "    </tr>\n",
       "    <tr>\n",
       "      <td>2</td>\n",
       "      <td>6266</td>\n",
       "      <td>‘Wearables’, robots y coches del futuro: diez ...</td>\n",
       "      <td>{}</td>\n",
       "      <td>None</td>\n",
       "      <td>[[1, 10, ENG]]</td>\n",
       "      <td>technology</td>\n",
       "    </tr>\n",
       "    <tr>\n",
       "      <td>3</td>\n",
       "      <td>6270</td>\n",
       "      <td>Un empresario australiano le dice a la BBC que...</td>\n",
       "      <td>{}</td>\n",
       "      <td>None</td>\n",
       "      <td>[[58, 65, ENG]]</td>\n",
       "      <td>technology</td>\n",
       "    </tr>\n",
       "    <tr>\n",
       "      <td>4</td>\n",
       "      <td>6272</td>\n",
       "      <td>Díaz Ferrán gastó 47.900 euros en restaurantes...</td>\n",
       "      <td>{}</td>\n",
       "      <td>None</td>\n",
       "      <td>[[83, 88, ENG]]</td>\n",
       "      <td>economy</td>\n",
       "    </tr>\n",
       "  </tbody>\n",
       "</table>\n",
       "</div>"
      ],
      "text/plain": [
       "     id                                               text meta  \\\n",
       "0  6227  'Selfies' en 3D, el arte de imprimir a tu sueg...   {}   \n",
       "1  6247                     El brexit, bajo el microscopio   {}   \n",
       "2  6266  ‘Wearables’, robots y coches del futuro: diez ...   {}   \n",
       "3  6270  Un empresario australiano le dice a la BBC que...   {}   \n",
       "4  6272  Díaz Ferrán gastó 47.900 euros en restaurantes...   {}   \n",
       "\n",
       "  annotation_approver           labels     section  \n",
       "0                None    [[1, 8, ENG]]  technology  \n",
       "1                None    [[3, 9, ENG]]  technology  \n",
       "2                None   [[1, 10, ENG]]  technology  \n",
       "3                None  [[58, 65, ENG]]  technology  \n",
       "4                None  [[83, 88, ENG]]     economy  "
      ]
     },
     "execution_count": 8,
     "metadata": {},
     "output_type": "execute_result"
    }
   ],
   "source": [
    "df_Ang.head()"
   ]
  },
  {
   "cell_type": "code",
   "execution_count": 9,
   "metadata": {},
   "outputs": [],
   "source": [
    "df_Ang.to_csv(r'annotation_anglicisms.csv', index=None, header=True)"
   ]
  },
  {
   "cell_type": "code",
   "execution_count": null,
   "metadata": {},
   "outputs": [],
   "source": []
  }
 ],
 "metadata": {
  "kernelspec": {
   "display_name": "Python 3",
   "language": "python",
   "name": "python3"
  },
  "language_info": {
   "codemirror_mode": {
    "name": "ipython",
    "version": 3
   },
   "file_extension": ".py",
   "mimetype": "text/x-python",
   "name": "python",
   "nbconvert_exporter": "python",
   "pygments_lexer": "ipython3",
   "version": "3.7.4"
  }
 },
 "nbformat": 4,
 "nbformat_minor": 2
}
